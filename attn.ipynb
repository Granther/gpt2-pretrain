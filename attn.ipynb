{
 "cells": [
  {
   "cell_type": "code",
   "execution_count": 3,
   "id": "3e9909f9-d058-4794-be9e-16f2b7404f41",
   "metadata": {},
   "outputs": [],
   "source": [
    "import numpy as np\n",
    "import torch\n",
    "import matplotlib.pyplot as plt\n",
    "import seaborn as sns"
   ]
  },
  {
   "cell_type": "code",
   "execution_count": 4,
   "id": "fc5da78b-5a4a-4c39-9340-2a19fb3c7e30",
   "metadata": {},
   "outputs": [],
   "source": [
    "embeddings = {\n",
    "    'the': np.array([0.1, 0.2, 0.3]),\n",
    "    'cat': np.array([0.4, 0.5, 0.6]),\n",
    "    'sat': np.array([0.7, 0.8, 0.9]),\n",
    "    'on': np.array([1.0, 1.1, 1.2]),\n",
    "    'mat': np.array([1.3, 1.4, 1.5])\n",
    "}\n",
    "\n",
    "sentence = ['the', 'cat', 'sat', 'on', 'the', 'mat']\n",
    "\n",
    "embedded_tokens = np.array([embeddings[word] for word in sentence])"
   ]
  },
  {
   "cell_type": "code",
   "execution_count": 5,
   "id": "c78f3961-ad4d-4d8f-bce5-ed52ee721fe5",
   "metadata": {},
   "outputs": [
    {
     "data": {
      "text/plain": [
       "array([[0.1, 0.2, 0.3],\n",
       "       [0.4, 0.5, 0.6],\n",
       "       [0.7, 0.8, 0.9],\n",
       "       [1. , 1.1, 1.2],\n",
       "       [0.1, 0.2, 0.3],\n",
       "       [1.3, 1.4, 1.5]])"
      ]
     },
     "execution_count": 5,
     "metadata": {},
     "output_type": "execute_result"
    }
   ],
   "source": [
    "def sdp_attn(q, k, v, mask=None):\n",
    "    matmul_qk = torch.matmul(q, k)"
   ]
  },
  {
   "cell_type": "code",
   "execution_count": null,
   "id": "d16afa22-f4c1-4b00-8f33-dc329140beda",
   "metadata": {},
   "outputs": [],
   "source": []
  }
 ],
 "metadata": {
  "kernelspec": {
   "display_name": "Python 3 (ipykernel)",
   "language": "python",
   "name": "python3"
  },
  "language_info": {
   "codemirror_mode": {
    "name": "ipython",
    "version": 3
   },
   "file_extension": ".py",
   "mimetype": "text/x-python",
   "name": "python",
   "nbconvert_exporter": "python",
   "pygments_lexer": "ipython3",
   "version": "3.12.3"
  }
 },
 "nbformat": 4,
 "nbformat_minor": 5
}
