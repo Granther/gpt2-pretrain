{
 "cells": [
  {
   "cell_type": "code",
   "execution_count": 68,
   "id": "f970d9bf-180c-4e30-932a-dbdd22eef81b",
   "metadata": {},
   "outputs": [],
   "source": [
    "import torch\n",
    "from torch.utils.data import Dataset, DataLoader\n",
    "import torch.nn as nn\n",
    "import torch.optim as optim\n",
    "import nltk\n",
    "from nltk.tokenize import word_tokenize\n",
    "from datasets import load_dataset"
   ]
  },
  {
   "cell_type": "code",
   "execution_count": 72,
   "id": "ead81f8f-b0e2-44d2-aa0d-bc66105f1329",
   "metadata": {},
   "outputs": [],
   "source": [
    "### Hyper Params\n",
    "batch_size = 1\n",
    "hidden_size = 120\n",
    "input_size = 1"
   ]
  },
  {
   "cell_type": "code",
   "execution_count": 21,
   "id": "f0c6db8d-1973-46bf-9e46-5b790efd56b2",
   "metadata": {},
   "outputs": [],
   "source": [
    "raw_dataset = load_dataset(\"jaydenccc/AI_Storyteller_Dataset\", split=\"train\")['short_story']"
   ]
  },
  {
   "cell_type": "code",
   "execution_count": 47,
   "id": "b889e196-d6a1-4fca-9c89-6e3c753e337d",
   "metadata": {},
   "outputs": [
    {
     "name": "stderr",
     "output_type": "stream",
     "text": [
      "[nltk_data] Downloading package punkt_tab to /home/grant/nltk_data...\n",
      "[nltk_data]   Package punkt_tab is already up-to-date!\n"
     ]
    }
   ],
   "source": [
    "nltk.download('punkt_tab')\n",
    "\n",
    "text_corpus = \"\"\n",
    "for item in raw_dataset:\n",
    "    text_corpus += item.lower()\n",
    "\n",
    "tokens = word_tokenize(text_corpus)\n",
    "unique_words = set(tokens)\n",
    "word_to_num = {word: idx for idx, word in enumerate(unique_words)}\n",
    "num_to_word = {idx: word for idx, word in enumerate(unique_words)}"
   ]
  },
  {
   "cell_type": "code",
   "execution_count": 71,
   "id": "d061d359-4b65-473c-b723-9e0029de7506",
   "metadata": {},
   "outputs": [],
   "source": [
    "output_size = len(word_to_num)"
   ]
  },
  {
   "cell_type": "code",
   "execution_count": 52,
   "id": "636a65fe-5b54-4f62-81a1-93a8744b7c52",
   "metadata": {},
   "outputs": [],
   "source": [
    "class StoryDataset(Dataset):\n",
    "    def __init__(self, data):\n",
    "        self.data = data\n",
    "\n",
    "    def __len__(self):\n",
    "        return len(self.data)\n",
    "\n",
    "    def __getitem__(self, idx):\n",
    "        return self.data[idx]"
   ]
  },
  {
   "cell_type": "code",
   "execution_count": 64,
   "id": "cabc52ba-4148-4020-a043-a7190e130852",
   "metadata": {},
   "outputs": [],
   "source": [
    "corpus = text_corpus.split(' ')\n",
    "\n",
    "train_dataset = StoryDataset(corpus[:25000])\n",
    "train_dataloader = DataLoader(train_dataset, batch_size=batch_size, shuffle=False, num_workers=4)\n",
    "\n",
    "test_dataset = StoryDataset(corpus[25000:])\n",
    "test_dataloader = DataLoader(test_dataset, batch_size=batch_size, shuffle=False, num_workers=4)"
   ]
  },
  {
   "cell_type": "code",
   "execution_count": 73,
   "id": "e595e7d8-5cf4-4c6c-9b93-3be26c249e19",
   "metadata": {},
   "outputs": [],
   "source": [
    "class RNNModel(nn.Module):\n",
    "    def __init__(self):\n",
    "        super().__init__()\n",
    "        self.hidden_size = hidden_size\n",
    "        self.rnn = nn.RNN(input_size, hidden_size)\n",
    "        self.fc = nn.Linear(hidden_size, output_size)\n",
    "\n",
    "    def forward(self, x):\n",
    "        # Init hidden state (batch size * hidden size)\n",
    "        batch_size = x.size(0)\n",
    "        hidden = torch.zeros(1, batch_size, self.hidden_size) # \n",
    "\n",
    "        # Forward through net\n",
    "        out, hidden = self.rnn(x, hidden)\n",
    "\n",
    "        # Only use last hidden state for output\n",
    "        out = self.fc(out[:, -1, :])\n",
    "        return out"
   ]
  },
  {
   "cell_type": "code",
   "execution_count": null,
   "id": "856c0b85-a19c-4b22-ba78-6abab9d9ac04",
   "metadata": {},
   "outputs": [],
   "source": []
  }
 ],
 "metadata": {
  "kernelspec": {
   "display_name": "Python 3 (ipykernel)",
   "language": "python",
   "name": "python3"
  },
  "language_info": {
   "codemirror_mode": {
    "name": "ipython",
    "version": 3
   },
   "file_extension": ".py",
   "mimetype": "text/x-python",
   "name": "python",
   "nbconvert_exporter": "python",
   "pygments_lexer": "ipython3",
   "version": "3.12.3"
  }
 },
 "nbformat": 4,
 "nbformat_minor": 5
}
